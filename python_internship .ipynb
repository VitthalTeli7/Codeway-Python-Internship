{
 "cells": [
  {
   "cell_type": "markdown",
   "id": "7fa808bf",
   "metadata": {},
   "source": [
    "**Codeway Solutions Internship**"
   ]
  },
  {
   "cell_type": "markdown",
   "id": "ec221381",
   "metadata": {},
   "source": [
    "**Task-1**\n",
    "**Design a simple calculator with basic arithmetic operations. Prompt the\n",
    "user to input two numbers and an operation choice. Perform the\n",
    "calculation and display the result.**"
   ]
  },
  {
   "cell_type": "code",
   "execution_count": 2,
   "id": "21f485ad",
   "metadata": {},
   "outputs": [
    {
     "name": "stdout",
     "output_type": "stream",
     "text": [
      "Select operation:\n",
      "1. Add\n",
      "2. Subtract\n",
      "3. Multiply\n",
      "4. Divide\n",
      "Enter choice (1/2/3/4): 3\n",
      "Enter first number: 10\n",
      "Enter second number: 3\n",
      "Result: 30\n"
     ]
    }
   ],
   "source": [
    "def add(x, y):\n",
    "    return x + y\n",
    "\n",
    "def subtract(x, y):\n",
    "    return x - y\n",
    "\n",
    "def multiply(x, y):\n",
    "    return x * y\n",
    "\n",
    "def divide(x, y):\n",
    "    if y == 0:\n",
    "        return \"Error! Division by zero.\"\n",
    "    else:\n",
    "        return x / y\n",
    "\n",
    "print(\"Select operation:\")\n",
    "print(\"1. Add\")\n",
    "print(\"2. Subtract\")\n",
    "print(\"3. Multiply\")\n",
    "print(\"4. Divide\")\n",
    "\n",
    "while True:\n",
    "    choice = input(\"Enter choice (1/2/3/4): \")\n",
    "\n",
    "    if choice in ('1', '2', '3', '4'):\n",
    "        num1 = eval(input(\"Enter first number: \"))\n",
    "        num2 = eval(input(\"Enter second number: \"))\n",
    "\n",
    "        if choice == '1':\n",
    "            print(\"Result:\", add(num1, num2))\n",
    "        elif choice == '2':\n",
    "            print(\"Result:\", subtract(num1, num2))\n",
    "        elif choice == '3':\n",
    "            print(\"Result:\", multiply(num1, num2))\n",
    "        elif choice == '4':\n",
    "            print(\"Result:\", divide(num1, num2))\n",
    "        break\n",
    "    else:\n",
    "        print(\"Invalid Input\")\n",
    "\n"
   ]
  },
  {
   "cell_type": "markdown",
   "id": "d91468e0",
   "metadata": {},
   "source": [
    "**Task-3** "
   ]
  },
  {
   "cell_type": "markdown",
   "id": "b0a45025",
   "metadata": {},
   "source": [
    "**A password generator is a useful tool that generates strong and random passwords for\n",
    "users. This project aims to create a password generator application using Python,\n",
    "allowing users to specify the length and complexity of the password.\n",
    "User Input: Prompt the user to specify the desired length of the password.\n",
    "Generate Password: Use a combination of random characters to generate a password of\n",
    "the specified length.\n",
    "Display the Password: Print the generated password on the screen.**"
   ]
  },
  {
   "cell_type": "code",
   "execution_count": 4,
   "id": "c92f611f",
   "metadata": {},
   "outputs": [
    {
     "name": "stdout",
     "output_type": "stream",
     "text": [
      "Enter the desired length of the password: 5\n",
      "Generated Password: R<lNS\n"
     ]
    }
   ],
   "source": [
    "import random\n",
    "import string\n",
    "\n",
    "def generate_password(length):\n",
    "    characters = string.ascii_letters + string.digits + string.punctuation\n",
    "    password = ''.join(random.choice(characters) for _ in range(length))\n",
    "    return password\n",
    "\n",
    "try:\n",
    "    length = int(input(\"Enter the desired length of the password: \"))\n",
    "    if length <= 0:\n",
    "        print(\"Please enter a positive length.\")\n",
    "    else:\n",
    "        password = generate_password(length)\n",
    "        print(\"Generated Password:\", password)\n",
    "except ValueError:\n",
    "    print(\"Invalid input. Please enter a valid integer.\")\n"
   ]
  },
  {
   "cell_type": "markdown",
   "id": "bbafb906",
   "metadata": {},
   "source": [
    "**Task-5**"
   ]
  },
  {
   "cell_type": "markdown",
   "id": "86518535",
   "metadata": {},
   "source": [
    "**Develop a quiz game that asks users multiple-choice or fill-in-the-blank questions on a\n",
    "specific topic. The game should keep track of scores, provide feedback on\n",
    "correct/incorrect answers, and offer a variety of questions to make it challenging and\n",
    "engaging.\n",
    "Load Quiz Questions. Calculate the Final Score. Display Final Results: Display Welcome Message and Rules.\n",
    "Present Quiz Questions: Display each question and answer choice. Prompt the user to\n",
    "select an answer.\n",
    "Evaluate the User's Answer: Compare the user's answer with the correct answer. Keep\n",
    "track of the user's score.\n",
    "Provide Feedback: Display if the answer was correct or incorrect. Show the correct\n",
    "answer for incorrect responses.\n",
    "Play Again: Ask the user if they want to play again.**"
   ]
  },
  {
   "cell_type": "code",
   "execution_count": 7,
   "id": "89b8f2f9",
   "metadata": {},
   "outputs": [
    {
     "name": "stdout",
     "output_type": "stream",
     "text": [
      "Welcome to the Quiz Game!\n",
      "You will be asked multiple-choice or fill-in-the-blank questions.\n",
      "Answer as many questions as you can correctly!\n",
      "Who developed the Python language? guido van rossum\n",
      "Correct!\n",
      "In which year was the Python language developed? 1989\n",
      "Correct!\n",
      "Which character is used in Python to make a single line comment? #\n",
      "Correct!\n",
      "Triple quotes means? docstring\n",
      "Correct!\n",
      "Final Score: 4\n",
      "Do you want to play again? (yes/no) no\n",
      "Thank you for playing!\n"
     ]
    }
   ],
   "source": [
    "class QuizGame:\n",
    "    def __init__(self):\n",
    "        self.questions = {\n",
    "            \"Who developed the Python language?\": \"Guido van Rossum\",\n",
    "            \"In which year was the Python language developed?\": \"1989\",\n",
    "            \"Which character is used in Python to make a single line comment?\": \"#\",\n",
    "            \"Triple quotes means?\": \"Docstring\"\n",
    "        }\n",
    "        self.score = 0\n",
    "\n",
    "    def display_welcome_message(self):\n",
    "        print(\"Welcome to the Quiz Game!\")\n",
    "        print(\"You will be asked multiple-choice or fill-in-the-blank questions.\")\n",
    "        print(\"Answer as many questions as you can correctly!\")\n",
    "\n",
    "    def present_quiz_questions(self):\n",
    "        for question, answer in self.questions.items():\n",
    "            user_answer = input(question + \" \").strip().lower()\n",
    "            if user_answer == answer.lower():\n",
    "                print(\"Correct!\")\n",
    "                self.score += 1\n",
    "            else:\n",
    "                print(\"Incorrect. The correct answer is:\", answer)\n",
    "\n",
    "    def display_final_results(self):\n",
    "        print(\"Final Score:\", self.score)\n",
    "\n",
    "    def play_again(self):\n",
    "        play_again = input(\"Do you want to play again? (yes/no) \").strip().lower()\n",
    "        return play_again == \"yes\"\n",
    "\n",
    "    def start_game(self):\n",
    "        while True:\n",
    "            self.display_welcome_message()\n",
    "            self.present_quiz_questions()\n",
    "            self.display_final_results()\n",
    "            if not self.play_again():\n",
    "                print(\"Thank you for playing!\")\n",
    "                break\n",
    "quiz_game = QuizGame()\n",
    "quiz_game.start_game()\n"
   ]
  }
 ],
 "metadata": {
  "kernelspec": {
   "display_name": "Python 3 (ipykernel)",
   "language": "python",
   "name": "python3"
  },
  "language_info": {
   "codemirror_mode": {
    "name": "ipython",
    "version": 3
   },
   "file_extension": ".py",
   "mimetype": "text/x-python",
   "name": "python",
   "nbconvert_exporter": "python",
   "pygments_lexer": "ipython3",
   "version": "3.11.5"
  }
 },
 "nbformat": 4,
 "nbformat_minor": 5
}
